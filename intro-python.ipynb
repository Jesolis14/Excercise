{
  "cells": [
    {
      "cell_type": "markdown",
      "metadata": {
        "id": "5DTQ2UYTQIqw"
      },
      "source": [
        "<a href=\"https://colab.research.google.com/github/mcd-unison/material-programacion/blob/main/intro-python.ipynb\" target=\"_parent\"><img src=\"https://colab.research.google.com/assets/colab-badge.svg\" alt=\"Open In Colab\"/></a>"
      ]
    },
    {
      "cell_type": "markdown",
      "metadata": {
        "id": "-nopfZdwQIq0"
      },
      "source": [
        "<center>\n",
        "<p><img src=\"https://mcd.unison.mx/wp-content/themes/awaken/img/logo_mcd.png\" width=\"100\">\n",
        "</p>\n",
        "\n",
        "\n",
        "\n",
        "# Curso Propedéutico en *Programación*\n",
        "\n",
        "## Introducción a `python` resolviendo preguntas\n",
        "\n",
        "\n",
        "**Julio Waissman Vilanova**\n",
        "\n"
      ]
    },
    {
      "cell_type": "markdown",
      "metadata": {
        "id": "2_7TBGhjQIq1"
      },
      "source": [
        "### Tipos\n",
        "\n",
        "¿Cuales son los tipos de datos básicos? Revisa los tipos siguientes:\n",
        "\n",
        "1. Tipos numéricos `int`, `float`, `complex`\n",
        "2. Cadenas de caracteres\n",
        "3. Tuplas\n",
        "4. Listas\n",
        "5. Diccionarios\n",
        "6. Conjuntos\n",
        "\n",
        "Da ejemplo de sobrecarga de operadores (en particular `+` y `*`)\n",
        "\n"
      ]
    },
    {
      "cell_type": "code",
      "execution_count": 61,
      "metadata": {
        "id": "iX6UYNeNQIq1",
        "outputId": "07560c05-b689-4056-af85-70747b45bcbe",
        "colab": {
          "base_uri": "https://localhost:8080/"
        }
      },
      "outputs": [
        {
          "output_type": "stream",
          "name": "stdout",
          "text": [
            "holaholaholaholahola\n",
            "hola mundo\n",
            "9.5\n",
            "(10.5+7j)\n"
          ]
        }
      ],
      "source": [
        "print('hola' * 5)\n",
        "print('hola ' + 'mundo')\n",
        "print(3.5 + 6)\n",
        "print((3 +2j) * 3.5)"
      ]
    },
    {
      "cell_type": "markdown",
      "metadata": {
        "id": "Fbs3KDaHQIq2"
      },
      "source": [
        "¿Que significa que unos tipos sean *mutables* y otros *inmutables*?\n",
        "\n",
        "Realiza un pequeño programa donde quede claro lo que significa que un tipo de datos sea mutable, e ilustra el uso del método `copy.deepcopy()`."
      ]
    },
    {
      "cell_type": "code",
      "execution_count": 70,
      "metadata": {
        "id": "VnA_xbCtQIq2"
      },
      "outputs": [],
      "source": [
        "lista = [1,'a',1, 13, 'hola', 'a', 1, 1, 'a', 1]\n"
      ]
    },
    {
      "cell_type": "markdown",
      "metadata": {
        "id": "gtGVjttwQIq3"
      },
      "source": [
        "### *Comprehension* de listas, conjuntos y diccionarios\n",
        "\n",
        "Escribe, en una sola linea, una expresión que genere una lista con todos los números enteros que se encuentran entre $1$ y $n$\n",
        "que sean divisibles por $3$ y $7$ y que el dígito menos significativo del número sea $6$."
      ]
    },
    {
      "cell_type": "code",
      "execution_count": 9,
      "metadata": {
        "id": "IzwBri04QIq3",
        "outputId": "7a37fd10-f7d5-45c9-fed7-75760256d819",
        "colab": {
          "base_uri": "https://localhost:8080/"
        }
      },
      "outputs": [
        {
          "output_type": "execute_result",
          "data": {
            "text/plain": [
              "[126,\n",
              " 336,\n",
              " 546,\n",
              " 756,\n",
              " 966,\n",
              " 1176,\n",
              " 1386,\n",
              " 1596,\n",
              " 1806,\n",
              " 2016,\n",
              " 2226,\n",
              " 2436,\n",
              " 2646,\n",
              " 2856,\n",
              " 3066,\n",
              " 3276,\n",
              " 3486,\n",
              " 3696,\n",
              " 3906,\n",
              " 4116,\n",
              " 4326,\n",
              " 4536,\n",
              " 4746,\n",
              " 4956,\n",
              " 5166,\n",
              " 5376,\n",
              " 5586,\n",
              " 5796,\n",
              " 6006,\n",
              " 6216,\n",
              " 6426,\n",
              " 6636,\n",
              " 6846,\n",
              " 7056,\n",
              " 7266,\n",
              " 7476,\n",
              " 7686,\n",
              " 7896,\n",
              " 8106,\n",
              " 8316,\n",
              " 8526,\n",
              " 8736,\n",
              " 8946,\n",
              " 9156,\n",
              " 9366,\n",
              " 9576,\n",
              " 9786,\n",
              " 9996]"
            ]
          },
          "metadata": {},
          "execution_count": 9
        }
      ],
      "source": [
        "n = 10_000\n",
        "\n",
        "lista = [x for x in range(1,n+1) if (x % 3 == 0 and x % 7 == 0 and x % 10 == 6)]\n",
        "lista\n"
      ]
    },
    {
      "cell_type": "markdown",
      "metadata": {
        "id": "miKNsyjKQIq4"
      },
      "source": [
        "### Funciones\n",
        "\n",
        "Escribe una función que:\n",
        "\n",
        "1. reciba una lista de elementos (letras, números, lo que sea),\n",
        "2. cuente la ocurrencia de cada elemento en la lista,\n",
        "3. devuelva las ocurrencias en forma de diccionario,\n",
        "4. si imprime es True, imprima un histograma de ocurrencias, por ejemplo:\n",
        "\n",
        "```python\n",
        "\n",
        "lista = [1,'a',1, 13, 'hola', 'a', 1, 1, 'a', 1]\n",
        "\n",
        "d = funcion_ejemplo(lista, imprime = True)\n",
        "\n",
        "1    \t\t***** \t(5 -> 50%)\n",
        "'a'  \t\t***   \t(3 -> 30%)\n",
        "13\t\t*\t(1 -> 10%)\n",
        "'hola'\t\t*\t(1 -> 10%)\n",
        "\n",
        "```"
      ]
    },
    {
      "cell_type": "code",
      "execution_count": 67,
      "metadata": {
        "id": "Xpe8pNybQIq4"
      },
      "outputs": [],
      "source": [
        "def funcion_ejemplo(lista, imprime = True):\n",
        "  dic = {x: lista.count(x) for x in set(lista) }\n",
        "\n",
        "  if imprime:\n",
        "    for items in  dic:\n",
        "      print(f'{items} \\t ' + '*' * dic[items] + f'\\t({dic[items]} -> {dic[items]/len(lista)*100}%)' )\n",
        "\n",
        "  return dic\n",
        "\n"
      ]
    },
    {
      "cell_type": "code",
      "execution_count": 68,
      "metadata": {
        "id": "7SiMqOC6QIq5",
        "outputId": "0c0a9c4b-2723-4ac9-eef1-c7f5c261b713",
        "colab": {
          "base_uri": "https://localhost:8080/"
        }
      },
      "outputs": [
        {
          "output_type": "stream",
          "name": "stdout",
          "text": [
            "hola \t *\t(1 -> 10.0%)\n",
            "1 \t *****\t(5 -> 50.0%)\n",
            "13 \t *\t(1 -> 10.0%)\n",
            "a \t ***\t(3 -> 30.0%)\n",
            "{'hola': 1, 1: 5, 13: 1, 'a': 3}\n"
          ]
        }
      ],
      "source": [
        "# Realiza pruebas aquí\n",
        "lista = [1,'a',1, 13, 'hola', 'a', 1, 1, 'a', 1]\n",
        "d = funcion_ejemplo(lista, imprime = True)\n",
        "print(d)"
      ]
    },
    {
      "cell_type": "markdown",
      "metadata": {
        "id": "kkacGePWQIq5"
      },
      "source": [
        "Escribe una función que modifique un diccionario y regrese el diccionario modificado y una copia del original, donde cada entrada\n",
        "del diccionario sea una lista de valores. Ten en cuenta que si una entrada del diccionario es de tipo mutable, al modificarlo en la\n",
        "copia se modifica el original. Utiliza el modulo `copy` para evitar este problema. Ejemplo de la función:\n",
        "\n",
        "```python\n",
        "dic1 = {'Pepe':[12, 'enero', 1980], 'Carolina':[15,'mayo',1975],'Paco':[10,'nov',1970]}\n",
        "dic2 = fundicos(dic1, 'Pepe', 1, 'febrero')\n",
        "\n",
        "print(dic1)\n",
        "{'Pepe':[12, 'enero', 1980], 'Carolina':[15,'mayo',1975],'Paco':[10,'nov',1970]}\n",
        "\n",
        "print(dic2)\n",
        "{'Pepe':[12, 'febrero', 1980], 'Carolina':[15,'mayo',1975],'Paco':[10,'nov',1970]}\n",
        "```"
      ]
    },
    {
      "cell_type": "code",
      "execution_count": null,
      "metadata": {
        "id": "yF3cjemSQIq5"
      },
      "outputs": [],
      "source": [
        "# Escribe la función fundicos aquí\n"
      ]
    },
    {
      "cell_type": "code",
      "execution_count": null,
      "metadata": {
        "id": "NxNLhDBfQIq6"
      },
      "outputs": [],
      "source": [
        "# Realiza pruebas de fundicos aquí\n",
        "dic1 = {'Pepe':[12, 'enero', 1980], 'Carolina':[15,'mayo',1975],'Paco':[10,'nov',1970]}\n",
        "dic2 = fundicos(dic1, 'Pepe', 1, 'febrero')\n",
        "\n",
        "print(dic1)\n",
        "print(dic2)"
      ]
    },
    {
      "cell_type": "markdown",
      "metadata": {
        "id": "dhj3w2V1QIq6"
      },
      "source": [
        "### Generadores\n",
        "\n",
        "Escribe un generador que reciba una lista y genere todas las permutaciones que se puedan hacer con los elementos de la lista"
      ]
    },
    {
      "cell_type": "code",
      "execution_count": 79,
      "metadata": {
        "id": "ZIAODDrXQIq6"
      },
      "outputs": [],
      "source": [
        "# Escribe aqui fun1\n",
        "\n",
        "def permutaciones(lista):\n",
        "    \"\"\"\n",
        "    Permutaciones de los elementos de una lista.\n",
        "\n",
        "    Devuelve un generador con todas las permutaciones posibles de los elementos de la lista de entrada\n",
        "    \"\"\"\n",
        "    #TODO: Implementar la función\n",
        "    if len(lista) == 0:\n",
        "      yield lista\n",
        "    else:\n",
        "      for (i,elemento) in enumerate(lista):\n",
        "        lista_menos_elemento = lista[:i] + lista[i+1:]\n",
        "        for perm in permutaciones(lista_menos_elemento):\n",
        "          yield [elemento] + perm"
      ]
    },
    {
      "cell_type": "code",
      "execution_count": 80,
      "metadata": {
        "id": "6RMArlRCQIq6",
        "outputId": "feefa4b5-2b27-405f-f12f-fdf8996703e3",
        "colab": {
          "base_uri": "https://localhost:8080/"
        }
      },
      "outputs": [
        {
          "output_type": "stream",
          "name": "stdout",
          "text": [
            "['a', 'b', 'c', 'd']\n",
            "['a', 'b', 'd', 'c']\n",
            "['a', 'c', 'b', 'd']\n",
            "['a', 'c', 'd', 'b']\n",
            "['a', 'd', 'b', 'c']\n",
            "['a', 'd', 'c', 'b']\n",
            "['b', 'a', 'c', 'd']\n",
            "['b', 'a', 'd', 'c']\n",
            "['b', 'c', 'a', 'd']\n",
            "['b', 'c', 'd', 'a']\n",
            "['b', 'd', 'a', 'c']\n",
            "['b', 'd', 'c', 'a']\n",
            "['c', 'a', 'b', 'd']\n",
            "['c', 'a', 'd', 'b']\n",
            "['c', 'b', 'a', 'd']\n",
            "['c', 'b', 'd', 'a']\n",
            "['c', 'd', 'a', 'b']\n",
            "['c', 'd', 'b', 'a']\n",
            "['d', 'a', 'b', 'c']\n",
            "['d', 'a', 'c', 'b']\n",
            "['d', 'b', 'a', 'c']\n",
            "['d', 'b', 'c', 'a']\n",
            "['d', 'c', 'a', 'b']\n",
            "['d', 'c', 'b', 'a']\n"
          ]
        }
      ],
      "source": [
        "# Realiza pruebas de fun2 aquí\n",
        "for p in permutaciones(['a', 'b', 'c', 'd']):\n",
        "    print(p)"
      ]
    },
    {
      "cell_type": "markdown",
      "metadata": {
        "id": "iwOHGSaRQIq6"
      },
      "source": [
        "Ahora escribe una funcipn que reciba 4 digitos del 0 al 9, y devuelva una lista con todas las horas váidas que se puedan hacer con estos dígitos en forma de lista de strings con la forma `\"HH:MM\"`."
      ]
    },
    {
      "cell_type": "code",
      "execution_count": 86,
      "metadata": {
        "id": "twNjUj6mQIq7"
      },
      "outputs": [],
      "source": [
        "def horas_validas(lista):\n",
        "    \"\"\"\n",
        "    Docstring a comentar correctamente\n",
        "    \"\"\"\n",
        "    lista2 = []\n",
        "    #TODO: Implementar la función\n",
        "    for perm in permutaciones(lista):\n",
        "      if perm[0]<2 and perm[2]<6:\n",
        "        lista2.append(perm)\n",
        "      elif perm[0] == 2 and perm[1]<5 and perm[2]<6:\n",
        "        lista2.append(perm)\n",
        "    return lista2"
      ]
    },
    {
      "cell_type": "markdown",
      "metadata": {
        "id": "BT_kFp2-QIq7"
      },
      "source": [
        "Validando:"
      ]
    },
    {
      "cell_type": "code",
      "execution_count": 87,
      "metadata": {
        "id": "zf5_7pCVQIq7",
        "outputId": "504abf54-bace-4d1a-8e70-a57f01d92d2c",
        "colab": {
          "base_uri": "https://localhost:8080/"
        }
      },
      "outputs": [
        {
          "output_type": "stream",
          "name": "stdout",
          "text": [
            "[[1, 2, 3, 7], [1, 3, 2, 7], [1, 7, 2, 3], [1, 7, 3, 2], [2, 1, 3, 7], [2, 3, 1, 7]]\n"
          ]
        }
      ],
      "source": [
        "print(horas_validas([1,2,3,7]))"
      ]
    },
    {
      "cell_type": "markdown",
      "metadata": {
        "id": "FKEyg_AbQIq7"
      },
      "source": [
        "Escribe una función, lo más compacta posible, que escoja entre los 3 patrones ascii a continuación, e imprima en pantalla\n",
        "el deseado, pero de dimensión $n$ ($n \\ge 4$), toma en cuanta que para algunos valores de $n$ habrá\n",
        "algún(os) patrones que no se puedan hacer.\n",
        "\n",
        "```\n",
        "          *             ++++           oooooooo\n",
        "          **            ++++           ooo  ooo\n",
        "          ***           ++++           oo    oo\n",
        "          ****          ++++           o      o\n",
        "          *****             ++++       o      o\n",
        "          ******            ++++       oo    oo\n",
        "          *******           ++++       ooo  ooo\n",
        "          ********          ++++       oooooooo\n",
        "\n",
        "```"
      ]
    },
    {
      "cell_type": "code",
      "execution_count": null,
      "metadata": {
        "id": "vXEavw95QIq7"
      },
      "outputs": [],
      "source": [
        "# Escribe aquí la función"
      ]
    },
    {
      "cell_type": "code",
      "execution_count": null,
      "metadata": {
        "id": "zMlOYONlQIq7"
      },
      "outputs": [],
      "source": [
        "#Realiza pruebas aquí\n"
      ]
    },
    {
      "cell_type": "markdown",
      "metadata": {
        "id": "UBbrXDsuQIq7"
      },
      "source": [
        "### Clases y objetos\n",
        "\n",
        "Diseña una clase Matriz con las siguientes características:\n",
        "\n",
        "1. Como inicialización de un objeto es necesario conocer $n$, $m$ y tipo. En caso de no proporcionar $m$ la matriz se asume cuadrada de $n \\times n$. En caso de no proporcionar $n$ la matriz tendrá una dimensión de $1 \\times 1$.\n",
        "2. De no especificarse todos los elementos se inicializan a 0, a menos que exista un tipo especial ( `unos` o `diag` por el momento).\n",
        "3. Implementa con sobrecarga la suma de matrices, la multiplicación de matrices y la multiplicación por un escalar.\n",
        "4. Implementa como métodos eliminar columna y eliminar fila.   \n",
        "5. Programa la representación visual de la matriz.\n",
        "6. Ten en cuenta tambien el manejo de errores.\n",
        "\n",
        "\n",
        "Ejemplo de uso:\n",
        "\n",
        "```\n",
        ">>> A = Matriz(n=3, m=4)\n",
        "\n",
        ">>> print(A)\n",
        "0 0 0 0\n",
        "0 0 0 0\n",
        "0 0 0 0\n",
        "\n",
        ">>> A = A.quitafila(2)\n",
        "\n",
        ">>> print(A)\n",
        "0 0 0 0\n",
        "0 0 0 0\n",
        "\n",
        ">>> B = Matriz(4,4,'diag')\n",
        "\n",
        ">>> print(B)\n",
        "1 0 0 0\n",
        "0 1 0 0\n",
        "0 0 1 0\n",
        "0 0 0 1\n",
        "\n",
        ">>> C = Matriz(4,1,'unos')\n",
        "\n",
        ">>> print(C)\n",
        "1\n",
        "1\n",
        "1\n",
        "1\n",
        "\n",
        ">>> D = 3 * B * C\n",
        "\n",
        ">>> print(D)\n",
        "3\n",
        "3\n",
        "3\n",
        "3\n",
        "\n",
        ">>> E = 3 * B + C\n",
        "error \"No seas menso, si no son de la misma dimensión las matrices no se pueden sumar\"\n",
        "```"
      ]
    },
    {
      "cell_type": "code",
      "execution_count": null,
      "metadata": {
        "id": "CWFT2w2zQIq8"
      },
      "outputs": [],
      "source": [
        "# Desarrolla aqui la clase\n"
      ]
    },
    {
      "cell_type": "code",
      "execution_count": null,
      "metadata": {
        "id": "3ZcNN34zQIq8"
      },
      "outputs": [],
      "source": [
        "# Realiza las pruebas a la clase aquí\n",
        "\n",
        "A = Matriz(n=3, m=4)\n",
        "print('A =', A)\n",
        "\n",
        "A = A.quitafila(2)\n",
        "print('A = ', A)\n",
        "\n",
        "B = Matriz(4,4,'diag')\n",
        "print('B = ', B)\n",
        "\n",
        "C = Matriz(4,1,'unos')\n",
        "print('C =', C)\n",
        "\n",
        "D = 3 * B * C\n",
        "print('D = ', D)\n",
        "\n",
        "E = 3 * B + C\n",
        "print('E = ', E)"
      ]
    }
  ],
  "metadata": {
    "kernelspec": {
      "display_name": "ing-caract",
      "language": "python",
      "name": "python3"
    },
    "language_info": {
      "codemirror_mode": {
        "name": "ipython",
        "version": 3
      },
      "file_extension": ".py",
      "mimetype": "text/x-python",
      "name": "python",
      "nbconvert_exporter": "python",
      "pygments_lexer": "ipython3",
      "version": "3.8.13"
    },
    "orig_nbformat": 4,
    "colab": {
      "provenance": []
    }
  },
  "nbformat": 4,
  "nbformat_minor": 0
}