{
  "cells": [
    {
      "cell_type": "markdown",
      "metadata": {
        "id": "view-in-github",
        "colab_type": "text"
      },
      "source": [
        "<a href=\"https://colab.research.google.com/github/Jesolis14/Excercise/blob/main/Copia_de_intro_python.ipynb\" target=\"_parent\"><img src=\"https://colab.research.google.com/assets/colab-badge.svg\" alt=\"Open In Colab\"/></a>"
      ]
    },
    {
      "cell_type": "markdown",
      "metadata": {
        "id": "kech42cLUxdv"
      },
      "source": [
        "<a href=\"https://colab.research.google.com/github/mcd-unison/material-programacion/blob/main/intro-python.ipynb\" target=\"_parent\"><img src=\"https://colab.research.google.com/assets/colab-badge.svg\" alt=\"Open In Colab\"/></a>"
      ]
    },
    {
      "cell_type": "markdown",
      "metadata": {
        "id": "uCKTeXj7Uxd0"
      },
      "source": [
        "<center>\n",
        "<p><img src=\"https://mcd.unison.mx/wp-content/themes/awaken/img/logo_mcd.png\" width=\"100\">\n",
        "</p>\n",
        "\n",
        "\n",
        "\n",
        "# Curso Propedéutico en *Programación*\n",
        "\n",
        "## Introducción a `python` resolviendo preguntas\n",
        "\n",
        "\n",
        "**Julio Waissman Vilanova**\n",
        "\n"
      ]
    },
    {
      "cell_type": "markdown",
      "metadata": {
        "id": "4I0pB1EMUxd1"
      },
      "source": [
        "### Tipos\n",
        "\n",
        "¿Cuales son los tipos de datos básicos? Revisa los tipos siguientes:\n",
        "\n",
        "1. Tipos numéricos `int`, `float`, `complex`\n",
        "2. Cadenas de caracteres\n",
        "3. Tuplas\n",
        "4. Listas\n",
        "5. Diccionarios\n",
        "6. Conjuntos\n",
        "\n",
        "Da ejemplo de sobrecarga de operadores (en particular `+` y `*`)\n",
        "\n"
      ]
    },
    {
      "cell_type": "code",
      "execution_count": null,
      "metadata": {
        "id": "l-tcndO0Uxd2",
        "outputId": "560d6a0f-d3b5-4037-b3b5-9eaa0a8fb66a",
        "colab": {
          "base_uri": "https://localhost:8080/"
        }
      },
      "outputs": [
        {
          "output_type": "stream",
          "name": "stdout",
          "text": [
            "int & float: \n",
            " 4.21 \n",
            " 3.63\n",
            "\n",
            " strings: \n",
            " holahola \n",
            " holahola\n",
            "\n",
            " sets: \n",
            " ('apple', 'mela', 'apple', 'mela')\n",
            "\n",
            " lists: \n",
            " ['apple', 'mela', 'apple', 'mela'] \n",
            " ['apple', 'mela', 'apple', 'mela']\n"
          ]
        }
      ],
      "source": [
        "a = 3 #int\n",
        "b = 1.21 #float\n",
        "print('int & float:', '\\n', a + b, '\\n', a * b)\n",
        "\n",
        "c = 'hola'\n",
        "print('\\n', 'strings:', '\\n', c * 2, '\\n', c + c)\n",
        "\n",
        "d = ('apple', 'mela')\n",
        "print('\\n', 'sets:', '\\n', d * 2)\n",
        "\n",
        "e = ['apple', 'mela']\n",
        "print('\\n', 'lists:', '\\n', e + e, '\\n', e * 2)"
      ]
    },
    {
      "cell_type": "markdown",
      "metadata": {
        "id": "UTrd2GrdUxd3"
      },
      "source": [
        "¿Que significa que unos tipos sean *mutables* y otros *inmutables*?\n",
        "\n",
        "Realiza un pequeño programa donde quede claro lo que significa que un tipo de datos sea mutable, e ilustra el uso del método `copy.deepcopy()`."
      ]
    },
    {
      "cell_type": "code",
      "execution_count": null,
      "metadata": {
        "id": "VNySQAX5Uxd3",
        "outputId": "a67a5451-2e7c-4ddb-ccfd-b3e2d9d66592",
        "colab": {
          "base_uri": "https://localhost:8080/"
        }
      },
      "outputs": [
        {
          "output_type": "stream",
          "name": "stdout",
          "text": [
            "[1, 2, 3, 4, 9] \n",
            " [1, 2, 3, 4, 9]\n",
            "[1, 2, 3, 4, 9] \n",
            " [1, 2, 3, 4, 9, 5]\n",
            "('a', 'b', 'c') ('a', 'b', 'c')\n"
          ]
        }
      ],
      "source": [
        "import copy\n",
        "#Mutable se puede modificar una vez creado, como las listas\n",
        "lista = [1, 2, 3, 4]\n",
        "lista2 = lista\n",
        "lista2.append(9)\n",
        "print(lista, '\\n', lista2)\n",
        "\n",
        "lista3 = copy.deepcopy(lista)\n",
        "lista3.append(5)\n",
        "print(lista2, '\\n', lista3)\n",
        "\n",
        "#sets no se modifican una vez creado, solo index() y count()\n",
        "myTuple = ('a', 'b', 'c')\n",
        "myTuple2 = copy.deepcopy(myTuple)\n",
        "print(myTuple, myTuple2)\n"
      ]
    },
    {
      "cell_type": "markdown",
      "metadata": {
        "id": "B2tf5XmpUxd3"
      },
      "source": [
        "### *Comprehension* de listas, conjuntos y diccionarios\n",
        "\n",
        "Escribe, en una sola linea, una expresión que genere una lista con todos los números enteros que se encuentran entre $1$ y $n$\n",
        "que sean divisibles por $3$ y $7$ y que el dígito menos significativo del número sea $6$."
      ]
    },
    {
      "cell_type": "code",
      "execution_count": null,
      "metadata": {
        "id": "FSDb7zRDUxd4",
        "colab": {
          "base_uri": "https://localhost:8080/"
        },
        "outputId": "d10e30e2-999a-4df6-a8a9-8fdc03e469d6"
      },
      "outputs": [
        {
          "output_type": "stream",
          "name": "stdout",
          "text": [
            "[252, 672, 1092, 1512, 1932]\n"
          ]
        }
      ],
      "source": [
        "n = 10_000\n",
        "list = [x*2 for x in range (1,1000) if x%3==0 and x%7==0 and x%10==6]\n",
        "\n",
        "print(list)\n",
        "# Escribe aqui el *one linner*\n"
      ]
    },
    {
      "cell_type": "markdown",
      "metadata": {
        "id": "Oq6b0pG8Uxd5"
      },
      "source": [
        "### Funciones\n",
        "\n",
        "Escribe una función que:\n",
        "\n",
        "1. reciba una lista de elementos (letras, números, lo que sea),\n",
        "2. cuente la ocurrencia de cada elemento en la lista,\n",
        "3. devuelva las ocurrencias en forma de diccionario,\n",
        "4. si imprime es True, imprima un histograma de ocurrencias, por ejemplo:\n",
        "\n",
        "```python\n",
        "\n",
        "lista = [1,'a',1, 13, 'hola', 'a', 1, 1, 'a', 1]\n",
        "\n",
        "d = funcion_ejemplo(lista, imprime = True)\n",
        "\n",
        "1    \t\t***** \t(5 -> 50%)\n",
        "'a'  \t\t***   \t(3 -> 30%)\n",
        "13\t\t*\t(1 -> 10%)\n",
        "'hola'\t\t*\t(1 -> 10%)\n",
        "\n",
        "```"
      ]
    },
    {
      "cell_type": "code",
      "execution_count": null,
      "metadata": {
        "id": "R57nj3nHUxd5"
      },
      "outputs": [],
      "source": [
        "# Escribe la función aquí\n",
        "def funcion_ejemplo(lista, imprime = True):\n",
        "  dic = {x: lista.count(x) for x in set(lista) }\n",
        "\n",
        "  if imprime:\n",
        "    for items in  dic:\n",
        "      print(f'{items} \\t ' + '*' * dic[items] + f'\\t({dic[items]} -> {dic[items]/len(lista)*100}%)' )\n",
        "\n",
        "  return dic\n"
      ]
    },
    {
      "cell_type": "code",
      "execution_count": null,
      "metadata": {
        "id": "hPjoFJ22Uxd6",
        "colab": {
          "base_uri": "https://localhost:8080/"
        },
        "outputId": "9f1f3fe0-2f4f-4ca1-95a7-3857437dd74d"
      },
      "outputs": [
        {
          "output_type": "stream",
          "name": "stdout",
          "text": [
            "1 \t *****\t(5 -> 50.0%)\n",
            "13 \t *\t(1 -> 10.0%)\n",
            "hola \t *\t(1 -> 10.0%)\n",
            "a \t ***\t(3 -> 30.0%)\n"
          ]
        },
        {
          "output_type": "execute_result",
          "data": {
            "text/plain": [
              "{1: 5, 13: 1, 'hola': 1, 'a': 3}"
            ]
          },
          "metadata": {},
          "execution_count": 7
        }
      ],
      "source": [
        "# Realiza pruebas aquí\n",
        "lista = [1,'a',1, 13, 'hola', 'a', 1, 1, 'a', 1]\n",
        "funcion_ejemplo(lista)\n"
      ]
    },
    {
      "cell_type": "markdown",
      "metadata": {
        "id": "vus3bIf4Uxd6"
      },
      "source": [
        "Escribe una función que modifique un diccionario y regrese el diccionario modificado y una copia del original, donde cada entrada\n",
        "del diccionario sea una lista de valores. Ten en cuenta que si una entrada del diccionario es de tipo mutable, al modificarlo en la\n",
        "copia se modifica el original. Utiliza el modulo `copy` para evitar este problema. Ejemplo de la función:\n",
        "\n",
        "```python\n",
        "dic1 = {'Pepe':[12, 'enero', 1980], 'Carolina':[15,'mayo',1975],'Paco':[10,'nov',1970]}\n",
        "dic2 = fundicos(dic1, 'Pepe', 1, 'febrero')\n",
        "\n",
        "print(dic1)\n",
        "{'Pepe':[12, 'enero', 1980], 'Carolina':[15,'mayo',1975],'Paco':[10,'nov',1970]}\n",
        "\n",
        "print(dic2)\n",
        "{'Pepe':[12, 'febrero', 1980], 'Carolina':[15,'mayo',1975],'Paco':[10,'nov',1970]}\n",
        "```"
      ]
    },
    {
      "cell_type": "code",
      "execution_count": null,
      "metadata": {
        "id": "i7RWGNnzUxd7",
        "colab": {
          "base_uri": "https://localhost:8080/"
        },
        "outputId": "dea3d18d-72fe-4ca9-f103-b0b95f96213c"
      },
      "outputs": [
        {
          "output_type": "stream",
          "name": "stdout",
          "text": [
            "{'Pepe': [12, 'enero', 1980], 'Carolina': [15, 'mayo', 1975], 'Paco': [10, 'nov', 1970]}\n",
            "{'Pepe': [12, 'febrero', 1980], 'Carolina': [15, 'mayo', 1975], 'Paco': [10, 'nov', 1970]}\n"
          ]
        }
      ],
      "source": [
        "# Escribe la función fundicos aquí\n",
        "dic1 = {'Pepe':[12, 'enero', 1980], 'Carolina':[15,'mayo',1975],'Paco':[10,'nov',1970]}\n",
        "dic2 = copy.deepcopy(dic1)\n",
        "dic2['Pepe'] = [12, 'febrero', 1980]\n",
        "\n",
        "print(dic1)\n",
        "print(dic2)"
      ]
    },
    {
      "cell_type": "markdown",
      "metadata": {
        "id": "aAKbUYGnUxd7"
      },
      "source": [
        "### Generadores\n",
        "\n",
        "Escribe un generador que reciba una lista y genere todas las permutaciones que se puedan hacer con los elementos de la lista"
      ]
    },
    {
      "cell_type": "code",
      "execution_count": null,
      "metadata": {
        "id": "ywCP5Un5Uxd7",
        "collapsed": true
      },
      "outputs": [],
      "source": [
        "# Escribe aqui fun\n",
        "def permutaciones(lista):\n",
        "    \"\"\"\n",
        "    Permutaciones de los elementos de una lista.\n",
        "\n",
        "    Devuelve un generador con todas las permutaciones posibles de los elementos de la lista de entrada\n",
        "    \"\"\"\n",
        "    #TODO: Implementar la función\n",
        "    if len(lista) == 0:\n",
        "      yield lista\n",
        "    else:\n",
        "      for (i,elemento) in enumerate(lista):\n",
        "        lista_menos_elemento = lista[:i] + lista[i+1:]\n",
        "        for perm in permutaciones(lista_menos_elemento):\n",
        "          yield [elemento] + perm"
      ]
    },
    {
      "cell_type": "code",
      "execution_count": null,
      "metadata": {
        "id": "8giPDUoNUxd8",
        "colab": {
          "base_uri": "https://localhost:8080/"
        },
        "outputId": "33b73a21-fe57-48d4-adfc-a5a187e6794f"
      },
      "outputs": [
        {
          "output_type": "stream",
          "name": "stdout",
          "text": [
            "['a', 'b', 'c', 'd']\n",
            "['a', 'b', 'd', 'c']\n",
            "['a', 'c', 'b', 'd']\n",
            "['a', 'c', 'd', 'b']\n",
            "['a', 'd', 'b', 'c']\n",
            "['a', 'd', 'c', 'b']\n",
            "['b', 'a', 'c', 'd']\n",
            "['b', 'a', 'd', 'c']\n",
            "['b', 'c', 'a', 'd']\n",
            "['b', 'c', 'd', 'a']\n",
            "['b', 'd', 'a', 'c']\n",
            "['b', 'd', 'c', 'a']\n",
            "['c', 'a', 'b', 'd']\n",
            "['c', 'a', 'd', 'b']\n",
            "['c', 'b', 'a', 'd']\n",
            "['c', 'b', 'd', 'a']\n",
            "['c', 'd', 'a', 'b']\n",
            "['c', 'd', 'b', 'a']\n",
            "['d', 'a', 'b', 'c']\n",
            "['d', 'a', 'c', 'b']\n",
            "['d', 'b', 'a', 'c']\n",
            "['d', 'b', 'c', 'a']\n",
            "['d', 'c', 'a', 'b']\n",
            "['d', 'c', 'b', 'a']\n"
          ]
        }
      ],
      "source": [
        "# Realiza pruebas de fun2 aquí\n",
        "for p in permutaciones(['a', 'b', 'c', 'd']):\n",
        "    print(p)"
      ]
    },
    {
      "cell_type": "markdown",
      "metadata": {
        "id": "8rrdoo74Uxd8"
      },
      "source": [
        "Ahora escribe una funcipn que reciba 4 digitos del 0 al 9, y devuelva una lista con todas las horas váidas que se puedan hacer con estos dígitos en forma de lista de strings con la forma `\"HH:MM\"`."
      ]
    },
    {
      "cell_type": "code",
      "execution_count": null,
      "metadata": {
        "id": "Cnc8-CydUxd8"
      },
      "outputs": [],
      "source": [
        "#Ejercicios para la clase de programación, miércoles 29 de mayo\n",
        "def horas_validas(lista):\n",
        "    \"\"\"\n",
        "    Docstring a comentar correctamente\n",
        "    \"\"\"\n",
        "    lista2 = []\n",
        "    #TODO: Implementar la función\n",
        "    for perm in permutaciones(lista):\n",
        "      if perm[0]<2 and perm[2]<6:\n",
        "        lista2.append(perm)\n",
        "      elif perm[0] == 2 and perm[1]<5 and perm[2]<6:\n",
        "        lista2.append(perm)\n",
        "    return lista2"
      ]
    },
    {
      "cell_type": "markdown",
      "metadata": {
        "id": "OKMV5K_qUxd9"
      },
      "source": [
        "Validando:"
      ]
    },
    {
      "cell_type": "code",
      "execution_count": null,
      "metadata": {
        "id": "-IsXoGDdUxd9",
        "colab": {
          "base_uri": "https://localhost:8080/"
        },
        "outputId": "5a344e5d-ca5c-47fb-e0f0-1e77f7738279"
      },
      "outputs": [
        {
          "output_type": "stream",
          "name": "stdout",
          "text": [
            "[[1, 2, 3, 4], [1, 2, 4, 3], [1, 3, 2, 4], [1, 3, 4, 2], [1, 4, 2, 3], [1, 4, 3, 2], [2, 1, 3, 4], [2, 1, 4, 3], [2, 3, 1, 4], [2, 3, 4, 1], [2, 4, 1, 3], [2, 4, 3, 1]]\n"
          ]
        }
      ],
      "source": [
        "print(horas_validas([1,2,3,4]))"
      ]
    },
    {
      "cell_type": "markdown",
      "metadata": {
        "id": "VWYvbXnSUxd9"
      },
      "source": [
        "Escribe una función, lo más compacta posible, que escoja entre los 3 patrones ascii a continuación, e imprima en pantalla\n",
        "el deseado, pero de dimensión $n$ ($n \\ge 4$), toma en cuanta que para algunos valores de $n$ habrá\n",
        "algún(os) patrones que no se puedan hacer.\n",
        "\n",
        "```\n",
        "          *             ++++           oooooooo\n",
        "          **            ++++           ooo  ooo\n",
        "          ***           ++++           oo    oo\n",
        "          ****          ++++           o      o\n",
        "          *****             ++++       o      o\n",
        "          ******            ++++       oo    oo\n",
        "          *******           ++++       ooo  ooo\n",
        "          ********          ++++       oooooooo\n",
        "\n",
        "```"
      ]
    },
    {
      "cell_type": "code",
      "execution_count": null,
      "metadata": {
        "id": "V8gSrfkZUxd9"
      },
      "outputs": [],
      "source": [
        "# Escribe aquí la función\n",
        "def piramide(numero, dimension):\n",
        "  simbolo = chr(numero)\n",
        "  for n in range(dimension):\n",
        "    print(simbolo * (n+1))\n",
        "  print('\\n')\n",
        "  if dimension % 2 == 0:\n",
        "    for n in range(1,dimension+1):\n",
        "      if n <= dimension/2:\n",
        "        print(simbolo * int(dimension/2))\n",
        "      else:\n",
        "        print(' ' * int(dimension/2) + simbolo * int(dimension/2))\n",
        "    print('\\n')\n",
        "    for n in range(dimension):\n",
        "      if n < dimension/2:\n",
        "        print(simbolo * (int(dimension/2)-n) + ' '* 2*n + simbolo * (int(dimension/2)-n))\n",
        "      else:\n",
        "        m = dimension - n -1\n",
        "        print(simbolo * (int(dimension/2)-m) + ' '* 2*m + simbolo * (int(dimension/2)-m))\n",
        "\n",
        "\n",
        "\n"
      ]
    },
    {
      "cell_type": "code",
      "execution_count": null,
      "metadata": {
        "id": "6wb1Q3zLUxd9",
        "colab": {
          "base_uri": "https://localhost:8080/"
        },
        "outputId": "21a6543e-ee0e-4631-8eae-6d945078da19"
      },
      "outputs": [
        {
          "output_type": "stream",
          "name": "stdout",
          "text": [
            "Cuál simbolo deseas? \n",
            "1)* \n",
            "2)+ \n",
            "3)o\n",
            "R.-\n",
            "None2\n",
            "Dimensión deseada mayor que 4?\n",
            "R.-\n",
            "None16\n",
            "+\n",
            "++\n",
            "+++\n",
            "++++\n",
            "+++++\n",
            "++++++\n",
            "+++++++\n",
            "++++++++\n",
            "+++++++++\n",
            "++++++++++\n",
            "+++++++++++\n",
            "++++++++++++\n",
            "+++++++++++++\n",
            "++++++++++++++\n",
            "+++++++++++++++\n",
            "++++++++++++++++\n",
            "\n",
            "\n",
            "++++++++\n",
            "++++++++\n",
            "++++++++\n",
            "++++++++\n",
            "++++++++\n",
            "++++++++\n",
            "++++++++\n",
            "++++++++\n",
            "        ++++++++\n",
            "        ++++++++\n",
            "        ++++++++\n",
            "        ++++++++\n",
            "        ++++++++\n",
            "        ++++++++\n",
            "        ++++++++\n",
            "        ++++++++\n",
            "\n",
            "\n",
            "++++++++++++++++\n",
            "+++++++  +++++++\n",
            "++++++    ++++++\n",
            "+++++      +++++\n",
            "++++        ++++\n",
            "+++          +++\n",
            "++            ++\n",
            "+              +\n",
            "+              +\n",
            "++            ++\n",
            "+++          +++\n",
            "++++        ++++\n",
            "+++++      +++++\n",
            "++++++    ++++++\n",
            "+++++++  +++++++\n",
            "++++++++++++++++\n"
          ]
        }
      ],
      "source": [
        "#Realiza pruebas aquí\n",
        "\n",
        "print('Cuál simbolo deseas? \\n1)* \\n2)+ \\n3)o')\n",
        "num = int(input(print('R.-')))\n",
        "print('Dimensión deseada mayor que 4?')\n",
        "num2 = int(input(print('R.-')))\n",
        "if num == 1 and num2>=4:\n",
        "  piramide(42,num2)\n",
        "elif num == 2 and num2>=4:\n",
        "  piramide(43,num2)\n",
        "elif num == 3 and num2>=4:\n",
        "  piramide(111,num2)\n",
        "else:\n",
        "  print('error')\n",
        "\n"
      ]
    },
    {
      "cell_type": "markdown",
      "metadata": {
        "id": "kSI5ccUqUxd9"
      },
      "source": [
        "### Clases y objetos\n",
        "\n",
        "Diseña una clase Matriz con las siguientes características:\n",
        "\n",
        "1. Como inicialización de un objeto es necesario conocer $n$, $m$ y tipo. En caso de no proporcionar $m$ la matriz se asume cuadrada de $n \\times n$. En caso de no proporcionar $n$ la matriz tendrá una dimensión de $1 \\times 1$.\n",
        "2. De no especificarse todos los elementos se inicializan a 0, a menos que exista un tipo especial ( `unos` o `diag` por el momento).\n",
        "3. Implementa con sobrecarga la suma de matrices, la multiplicación de matrices y la multiplicación por un escalar.\n",
        "4. Implementa como métodos eliminar columna y eliminar fila.   \n",
        "5. Programa la representación visual de la matriz.\n",
        "6. Ten en cuenta tambien el manejo de errores.\n",
        "\n",
        "\n",
        "Ejemplo de uso:\n",
        "\n",
        "```\n",
        ">>> A = Matriz(n=3, m=4)\n",
        "\n",
        ">>> print(A)\n",
        "0 0 0 0\n",
        "0 0 0 0\n",
        "0 0 0 0\n",
        "\n",
        ">>> A = A.quitafila(2)\n",
        "\n",
        ">>> print(A)\n",
        "0 0 0 0\n",
        "0 0 0 0\n",
        "\n",
        ">>> B = Matriz(4,4,'diag')\n",
        "\n",
        ">>> print(B)\n",
        "1 0 0 0\n",
        "0 1 0 0\n",
        "0 0 1 0\n",
        "0 0 0 1\n",
        "\n",
        ">>> C = Matriz(4,1,'unos')\n",
        "\n",
        ">>> print(C)\n",
        "1\n",
        "1\n",
        "1\n",
        "1\n",
        "\n",
        ">>> D = 3 * B * C\n",
        "\n",
        ">>> print(D)\n",
        "3\n",
        "3\n",
        "3\n",
        "3\n",
        "\n",
        ">>> E = 3 * B + C\n",
        "error \"No seas menso, si no son de la misma dimensión las matrices no se pueden sumar\"\n",
        "```"
      ]
    },
    {
      "cell_type": "code",
      "execution_count": null,
      "metadata": {
        "id": "5SnoZvq5Uxd-"
      },
      "outputs": [],
      "source": [
        "# Desarrolla aqui la clase\n",
        "class Matriz:\n",
        "  # Inicialización de objetos de la clase Matriz\n",
        "  def __init__(self,nrows,ncols,tipo=''):\n",
        "      self.nrows = nrows\n",
        "      self.ncols = ncols\n",
        "      if tipo == '':\n",
        "        self.matriz = [[0 for i in range(ncols)] for j in range(nrows)]\n",
        "      elif tipo == 'unos':\n",
        "        self.matriz = [[1 for i in range(ncols)] for j in range(nrows)]\n",
        "      elif tipo == 'diag':\n",
        "        if self.nrows == self.ncols:\n",
        "          self.matriz = [[0 for i in range(ncols)] for j in range(nrows)]\n",
        "          for i in range(self.nrows):\n",
        "            self.matriz[i][i] += 1\n",
        "        else:\n",
        "          print('error \"El número de filas y columnas debe ser igual para que una matiz sea diagonal\"')\n",
        "\n",
        "  # Formato de impresión de los objetos en la clase Matriz\n",
        "  def __str__(self):\n",
        "      space = ' '\n",
        "      for i in range(self.nrows):\n",
        "        for j in range(self.ncols):\n",
        "          print(str(self.matriz[i][j])+' ', end ='')\n",
        "        print(' ')\n",
        "      return str('')\n",
        "\n",
        "  # Elimina fila de una matriz\n",
        "  def quitafila(self,row):\n",
        "      \"\"\"\n",
        "      Devuelve la matriz obtenida al eliminar la fila seleccionada.\n",
        "\n",
        "      row: Número de fila a eliminar de en la matriz.\n",
        "      \"\"\"\n",
        "      if row <= self.nrows:\n",
        "        Q = Matriz(self.nrows-1,self.ncols)\n",
        "        for i in range(self.nrows-1):\n",
        "          for j in range(self.ncols):\n",
        "            if i < row:\n",
        "              Q.matriz[i][j] = self.matriz[i][j]\n",
        "            else:\n",
        "              Q.matriz[i][j] = self.matriz[i+1][j]\n",
        "        return Q\n",
        "      else:\n",
        "        print('error \"Fila no encontrada. El número de fila a quitar debe ser menor o igual que\"',self.nrows)\n",
        "\n",
        "  # Elimina fila de una matriz\n",
        "  def quitacolumna(self,col):\n",
        "      \"\"\"\n",
        "      Devuelve la matriz obtenida al eliminar la fila seleccionada.\n",
        "\n",
        "      row: Número de fila a eliminar de en la matriz.\n",
        "      \"\"\"\n",
        "      if col <= self.ncols:\n",
        "        Q = Matriz(self.nrows,self.ncols-1)\n",
        "        for i in range(self.nrows):\n",
        "          for j in range(self.ncols-1):\n",
        "            if j < col:\n",
        "              Q.matriz[i][j] = self.matriz[i][j]\n",
        "            else:\n",
        "              Q.matriz[i][j] = self.matriz[i][j+1]\n",
        "        return Q\n",
        "      else:\n",
        "        print('error \"Columna no encontrada. El número de columna a quitar debe ser menor o igual que\"',self.ncols)\n",
        "\n",
        "  # Suma de matrices\n",
        "  def __add__(self,A):\n",
        "      if self.nrows == A.nrows and self.ncols == A.ncols:\n",
        "        S = Matriz(self.nrows,self.ncols)\n",
        "        for i in range(self.nrows):\n",
        "          for j in range(self.ncols):\n",
        "            S.matriz[i][j] = self.matriz[i][j] + A.matriz[i][j]\n",
        "      else:\n",
        "        print('error \"No es posible sumar matrices con dimensiones diferentes\"')\n",
        "      return S\n",
        "\n",
        "  # Multiplica un escalar por una matriz por la izquierda\n",
        "  def mul_scalar(self,n):\n",
        "      M = Matriz(self.nrows, self.ncols)\n",
        "      for i in range(self.nrows):\n",
        "        for j in range(self.ncols):\n",
        "          M.matriz[i][j] = n * self.matriz[i][j]\n",
        "      return M\n",
        "\n",
        "  # Multiplica una matriz o escalar por una matriz por la izquierda\n",
        "  def __mul__(self,A):\n",
        "      if isinstance(A, Matriz):\n",
        "        if self.ncols == A.nrows:\n",
        "          M = Matriz(self.nrows,A.ncols)\n",
        "          for i in range(self.nrows):\n",
        "            for j in range(A.ncols):\n",
        "              for k in range(self.ncols):\n",
        "                M.matriz[i][j] += self.matriz[i][k] * A.matriz[k][j]\n",
        "        else:\n",
        "          print('error \"No seas menso, si no son de la misma dimensión las matrices no se pueden sumar\"')\n",
        "      else:\n",
        "        M = self.mul_scalar(A)\n",
        "      return M\n",
        "\n",
        "  # Multiplica un escalar por una matriz por la derecha\n",
        "  def __rmul__(self,n):\n",
        "      M = self.mul_scalar(n)\n",
        "      return M\n"
      ]
    },
    {
      "cell_type": "code",
      "execution_count": null,
      "metadata": {
        "id": "-yJO3K9XUxd-",
        "colab": {
          "base_uri": "https://localhost:8080/"
        },
        "outputId": "e970e0ad-debf-4a2c-c32d-90845711dadc"
      },
      "outputs": [
        {
          "output_type": "stream",
          "name": "stdout",
          "text": [
            "Matriz de ceros (A)\n",
            "0 0 0 0  \n",
            "0 0 0 0  \n",
            "0 0 0 0  \n",
            "\n",
            "Matriz diagonal (B)\n",
            "1 0 0 0  \n",
            "0 1 0 0  \n",
            "0 0 1 0  \n",
            "0 0 0 1  \n",
            "\n",
            "Matriz de unos (C)\n",
            "1 1  \n",
            "1 1  \n",
            "1 1  \n",
            "1 1  \n",
            "\n",
            "Matriz B despues de eliminar su segunda fila\n",
            "1 0 0 0  \n",
            "0 0 1 0  \n",
            "0 0 0 1  \n",
            "\n",
            "Matriz B despues de eliminar la primer columna\n",
            "0 0 0  \n",
            "1 0 0  \n",
            "0 1 0  \n",
            "0 0 1  \n",
            "\n",
            "Producto B*C\n",
            "1 1  \n",
            "1 1  \n",
            "1 1  \n",
            "1 1  \n",
            "\n",
            "Producto B*3\n",
            "3 0 0 0  \n",
            "0 3 0 0  \n",
            "0 0 3 0  \n",
            "0 0 0 3  \n",
            "\n",
            "Producto 5*B\n",
            "5 0 0 0  \n",
            "0 5 0 0  \n",
            "0 0 5 0  \n",
            "0 0 0 5  \n",
            "\n"
          ]
        }
      ],
      "source": [
        "# Realiza las pruebas a la clase aquí\n",
        "\n",
        "# Realiza las pruebas a la clase aquí\n",
        "A = Matriz(3,4)\n",
        "print('Matriz de ceros (A)')\n",
        "print(A)\n",
        "\n",
        "print('Matriz diagonal (B)')\n",
        "B = Matriz(4,4,'diag')\n",
        "print(B)\n",
        "\n",
        "print('Matriz de unos (C)')\n",
        "C = Matriz(4,2,'unos')\n",
        "print(C)\n",
        "\n",
        "print('Matriz B despues de eliminar su segunda fila')\n",
        "Bc = B.quitafila(1)\n",
        "print(Bc)\n",
        "\n",
        "print('Matriz B despues de eliminar la primer columna')\n",
        "Bc = B.quitacolumna(0)\n",
        "print(Bc)\n",
        "\n",
        "D = B * C\n",
        "print('Producto B*C')\n",
        "print(D)\n",
        "\n",
        "E = B * 3\n",
        "print('Producto B*3')\n",
        "print(E)\n",
        "\n",
        "F = 5 * B\n",
        "print('Producto 5*B')\n",
        "print(F)"
      ]
    }
  ],
  "metadata": {
    "kernelspec": {
      "display_name": "ing-caract",
      "language": "python",
      "name": "python3"
    },
    "language_info": {
      "codemirror_mode": {
        "name": "ipython",
        "version": 3
      },
      "file_extension": ".py",
      "mimetype": "text/x-python",
      "name": "python",
      "nbconvert_exporter": "python",
      "pygments_lexer": "ipython3",
      "version": "3.8.13"
    },
    "orig_nbformat": 4,
    "colab": {
      "provenance": [],
      "include_colab_link": true
    }
  },
  "nbformat": 4,
  "nbformat_minor": 0
}